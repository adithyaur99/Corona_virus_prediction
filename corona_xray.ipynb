{
  "nbformat": 4,
  "nbformat_minor": 0,
  "metadata": {
    "colab": {
      "name": "corona_xray.ipynb",
      "provenance": [],
      "collapsed_sections": []
    },
    "kernelspec": {
      "name": "python3",
      "display_name": "Python 3"
    }
  },
  "cells": [
    {
      "cell_type": "code",
      "metadata": {
        "id": "_O1ZsBpB2Yue",
        "colab_type": "code",
        "colab": {
          "base_uri": "https://localhost:8080/",
          "height": 125
        },
        "outputId": "85b8d483-3d63-4c56-ebf0-00fa6e421bc4"
      },
      "source": [
        "from google.colab import drive\n",
        "drive.mount('/gdrive')"
      ],
      "execution_count": 1,
      "outputs": [
        {
          "output_type": "stream",
          "text": [
            "Go to this URL in a browser: https://accounts.google.com/o/oauth2/auth?client_id=947318989803-6bn6qk8qdgf4n4g3pfee6491hc0brc4i.apps.googleusercontent.com&redirect_uri=urn%3aietf%3awg%3aoauth%3a2.0%3aoob&response_type=code&scope=email%20https%3a%2f%2fwww.googleapis.com%2fauth%2fdocs.test%20https%3a%2f%2fwww.googleapis.com%2fauth%2fdrive%20https%3a%2f%2fwww.googleapis.com%2fauth%2fdrive.photos.readonly%20https%3a%2f%2fwww.googleapis.com%2fauth%2fpeopleapi.readonly\n",
            "\n",
            "Enter your authorization code:\n",
            "··········\n",
            "Mounted at /gdrive\n"
          ],
          "name": "stdout"
        }
      ]
    },
    {
      "cell_type": "code",
      "metadata": {
        "id": "_CROSbvz366s",
        "colab_type": "code",
        "colab": {}
      },
      "source": [
        "path='/gdrive/My Drive/ML:Pilot/Participants/Adithya/corona_xray/dataset/'"
      ],
      "execution_count": 0,
      "outputs": []
    },
    {
      "cell_type": "code",
      "metadata": {
        "id": "h2hTVxM-4QJz",
        "colab_type": "code",
        "colab": {}
      },
      "source": [
        "\n",
        "from sklearn.model_selection import train_test_split\n",
        "from sklearn.metrics import classification_report\n",
        "from sklearn.metrics import confusion_matrix\n",
        "from imutils import paths\n",
        "import numpy as np\n",
        "import cv2\n",
        "import os\n",
        "imagePaths = list(paths.list_images(path))\n",
        "data = []\n",
        "labels = []"
      ],
      "execution_count": 0,
      "outputs": []
    },
    {
      "cell_type": "code",
      "metadata": {
        "id": "V2Pm7JZS4UrM",
        "colab_type": "code",
        "colab": {
          "base_uri": "https://localhost:8080/",
          "height": 54
        },
        "outputId": "7ba00695-2f40-47bc-8b03-0dbad5bca965"
      },
      "source": [
        "print(imagePaths)"
      ],
      "execution_count": 4,
      "outputs": [
        {
          "output_type": "stream",
          "text": [
            "['/gdrive/My Drive/ML:Pilot/Participants/Adithya/corona_xray/dataset/normal/NORMAL2-IM-0315-0001.jpeg', '/gdrive/My Drive/ML:Pilot/Participants/Adithya/corona_xray/dataset/normal/person1935_bacteria_4849.jpeg', '/gdrive/My Drive/ML:Pilot/Participants/Adithya/corona_xray/dataset/normal/person525_bacteria_2216.jpeg', '/gdrive/My Drive/ML:Pilot/Participants/Adithya/corona_xray/dataset/normal/NORMAL2-IM-1179-0001.jpeg', '/gdrive/My Drive/ML:Pilot/Participants/Adithya/corona_xray/dataset/normal/person438_bacteria_1893.jpeg', '/gdrive/My Drive/ML:Pilot/Participants/Adithya/corona_xray/dataset/normal/person651_bacteria_2543.jpeg', '/gdrive/My Drive/ML:Pilot/Participants/Adithya/corona_xray/dataset/normal/person259_bacteria_1220.jpeg', '/gdrive/My Drive/ML:Pilot/Participants/Adithya/corona_xray/dataset/normal/person1558_bacteria_4066.jpeg', '/gdrive/My Drive/ML:Pilot/Participants/Adithya/corona_xray/dataset/normal/person339_bacteria_1574.jpeg', '/gdrive/My Drive/ML:Pilot/Participants/Adithya/corona_xray/dataset/normal/person378_virus_761.jpeg', '/gdrive/My Drive/ML:Pilot/Participants/Adithya/corona_xray/dataset/normal/person1599_virus_2776.jpeg', '/gdrive/My Drive/ML:Pilot/Participants/Adithya/corona_xray/dataset/normal/person925_virus_1582.jpeg', '/gdrive/My Drive/ML:Pilot/Participants/Adithya/corona_xray/dataset/normal/person939_bacteria_2864.jpeg', '/gdrive/My Drive/ML:Pilot/Participants/Adithya/corona_xray/dataset/normal/NORMAL2-IM-0696-0001.jpeg', '/gdrive/My Drive/ML:Pilot/Participants/Adithya/corona_xray/dataset/normal/IM-0033-0001-0001.jpeg', '/gdrive/My Drive/ML:Pilot/Participants/Adithya/corona_xray/dataset/normal/person1_bacteria_2.jpeg', '/gdrive/My Drive/ML:Pilot/Participants/Adithya/corona_xray/dataset/normal/person1290_virus_2215.jpeg', '/gdrive/My Drive/ML:Pilot/Participants/Adithya/corona_xray/dataset/normal/person1102_bacteria_3043.jpeg', '/gdrive/My Drive/ML:Pilot/Participants/Adithya/corona_xray/dataset/normal/person989_virus_1667.jpeg', '/gdrive/My Drive/ML:Pilot/Participants/Adithya/corona_xray/dataset/normal/person934_virus_1595.jpeg', '/gdrive/My Drive/ML:Pilot/Participants/Adithya/corona_xray/dataset/normal/person1830_bacteria_4693.jpeg', '/gdrive/My Drive/ML:Pilot/Participants/Adithya/corona_xray/dataset/normal/IM-0466-0001.jpeg', '/gdrive/My Drive/ML:Pilot/Participants/Adithya/corona_xray/dataset/normal/NORMAL2-IM-0869-0001.jpeg', '/gdrive/My Drive/ML:Pilot/Participants/Adithya/corona_xray/dataset/normal/IM-0240-0001.jpeg', '/gdrive/My Drive/ML:Pilot/Participants/Adithya/corona_xray/dataset/normal/person612_bacteria_2478.jpeg', '/gdrive/My Drive/ML:Pilot/Participants/Adithya/corona_xray/dataset/covid/ryct.2020200028.fig1a.jpeg', '/gdrive/My Drive/ML:Pilot/Participants/Adithya/corona_xray/dataset/covid/nejmoa2001191_f5-PA.jpeg', '/gdrive/My Drive/ML:Pilot/Participants/Adithya/corona_xray/dataset/covid/auntminnie-a-2020_01_28_23_51_6665_2020_01_28_Vietnam_coronavirus.jpeg', '/gdrive/My Drive/ML:Pilot/Participants/Adithya/corona_xray/dataset/covid/ryct.2020200034.fig5-day4.jpeg', '/gdrive/My Drive/ML:Pilot/Participants/Adithya/corona_xray/dataset/covid/lancet-case2a.jpg', '/gdrive/My Drive/ML:Pilot/Participants/Adithya/corona_xray/dataset/covid/nejmc2001573_f1a.jpeg', '/gdrive/My Drive/ML:Pilot/Participants/Adithya/corona_xray/dataset/covid/nCoV-radiol.2020200269.fig1-day7.jpeg', '/gdrive/My Drive/ML:Pilot/Participants/Adithya/corona_xray/dataset/covid/radiol.2020200490.fig3.jpeg', '/gdrive/My Drive/ML:Pilot/Participants/Adithya/corona_xray/dataset/covid/1-s2.0-S0929664620300449-gr2_lrg-c.jpg', '/gdrive/My Drive/ML:Pilot/Participants/Adithya/corona_xray/dataset/covid/1-s2.0-S0929664620300449-gr2_lrg-b.jpg', '/gdrive/My Drive/ML:Pilot/Participants/Adithya/corona_xray/dataset/covid/auntminnie-c-2020_01_28_23_51_6665_2020_01_28_Vietnam_coronavirus.jpeg', '/gdrive/My Drive/ML:Pilot/Participants/Adithya/corona_xray/dataset/covid/auntminnie-b-2020_01_28_23_51_6665_2020_01_28_Vietnam_coronavirus.jpeg', '/gdrive/My Drive/ML:Pilot/Participants/Adithya/corona_xray/dataset/covid/1-s2.0-S0929664620300449-gr2_lrg-d.jpg', '/gdrive/My Drive/ML:Pilot/Participants/Adithya/corona_xray/dataset/covid/1-s2.0-S0929664620300449-gr2_lrg-a.jpg', '/gdrive/My Drive/ML:Pilot/Participants/Adithya/corona_xray/dataset/covid/lancet-case2b.jpg', '/gdrive/My Drive/ML:Pilot/Participants/Adithya/corona_xray/dataset/covid/1-s2.0-S0140673620303706-fx1_lrg.jpg', '/gdrive/My Drive/ML:Pilot/Participants/Adithya/corona_xray/dataset/covid/nejmoa2001191_f3-PA.jpeg', '/gdrive/My Drive/ML:Pilot/Participants/Adithya/corona_xray/dataset/covid/radiopedia-covid-19-pneumonia-2.jpg', '/gdrive/My Drive/ML:Pilot/Participants/Adithya/corona_xray/dataset/covid/ryct.2020200034.fig5-day7.jpeg', '/gdrive/My Drive/ML:Pilot/Participants/Adithya/corona_xray/dataset/covid/nejmoa2001191_f4.jpeg', '/gdrive/My Drive/ML:Pilot/Participants/Adithya/corona_xray/dataset/covid/ryct.2020200034.fig5-day0.jpeg', '/gdrive/My Drive/ML:Pilot/Participants/Adithya/corona_xray/dataset/covid/auntminnie-d-2020_01_28_23_51_6665_2020_01_28_Vietnam_coronavirus.jpeg', '/gdrive/My Drive/ML:Pilot/Participants/Adithya/corona_xray/dataset/covid/nejmc2001573_f1b.jpeg', '/gdrive/My Drive/ML:Pilot/Participants/Adithya/corona_xray/dataset/covid/nejmoa2001191_f1-PA.jpeg', '/gdrive/My Drive/ML:Pilot/Participants/Adithya/corona_xray/dataset/covid/ryct.2020200034.fig2.jpeg']\n"
          ],
          "name": "stdout"
        }
      ]
    },
    {
      "cell_type": "code",
      "metadata": {
        "id": "TxgLyM-K2iPe",
        "colab_type": "code",
        "colab": {}
      },
      "source": [
        "\n",
        "for imagePath in imagePaths:\n",
        "\tlabel = imagePath.split(os.path.sep)[-2]\n",
        "\timage = cv2.imread(imagePath)\n",
        "\timage = cv2.cvtColor(image, cv2.COLOR_BGR2RGB)\n",
        "\timage = cv2.resize(image, (224, 224))\n",
        "\timage=image.reshape(-1)\n",
        "\tdata.append(image)\n",
        "\tlabels.append(label)\n",
        "labels = np.array(labels)\n",
        "data=np.array(data)\n",
        "\n"
      ],
      "execution_count": 0,
      "outputs": []
    },
    {
      "cell_type": "code",
      "metadata": {
        "id": "2JvuaFuy3xoA",
        "colab_type": "code",
        "colab": {}
      },
      "source": [
        "from sklearn.preprocessing import LabelEncoder\n",
        "label=LabelEncoder()\n",
        "labels=label.fit_transform(labels)"
      ],
      "execution_count": 0,
      "outputs": []
    },
    {
      "cell_type": "code",
      "metadata": {
        "id": "X-13kKRC5msV",
        "colab_type": "code",
        "colab": {
          "base_uri": "https://localhost:8080/",
          "height": 70
        },
        "outputId": "d668ae0a-6696-4651-ad6a-a089773306df"
      },
      "source": [
        "labels"
      ],
      "execution_count": 7,
      "outputs": [
        {
          "output_type": "execute_result",
          "data": {
            "text/plain": [
              "array([1, 1, 1, 1, 1, 1, 1, 1, 1, 1, 1, 1, 1, 1, 1, 1, 1, 1, 1, 1, 1, 1,\n",
              "       1, 1, 1, 0, 0, 0, 0, 0, 0, 0, 0, 0, 0, 0, 0, 0, 0, 0, 0, 0, 0, 0,\n",
              "       0, 0, 0, 0, 0, 0])"
            ]
          },
          "metadata": {
            "tags": []
          },
          "execution_count": 7
        }
      ]
    },
    {
      "cell_type": "code",
      "metadata": {
        "id": "hjvZR3aT6N9h",
        "colab_type": "code",
        "colab": {}
      },
      "source": [
        "X_train, X_test, y_train, y_test = train_test_split(data, labels, test_size=0.25, random_state=1)"
      ],
      "execution_count": 0,
      "outputs": []
    },
    {
      "cell_type": "code",
      "metadata": {
        "id": "bXkD04yo8pUa",
        "colab_type": "code",
        "colab": {}
      },
      "source": [
        "a=X_train\n",
        "b=y_train\n",
        "a = np.array(a)\n",
        "b = np.ravel(b)"
      ],
      "execution_count": 0,
      "outputs": []
    },
    {
      "cell_type": "code",
      "metadata": {
        "id": "6OmGMC2o8uan",
        "colab_type": "code",
        "colab": {
          "base_uri": "https://localhost:8080/",
          "height": 34
        },
        "outputId": "92518355-2571-4ee1-9d14-106c82a06a27"
      },
      "source": [
        "data.shape"
      ],
      "execution_count": 10,
      "outputs": [
        {
          "output_type": "execute_result",
          "data": {
            "text/plain": [
              "(50, 150528)"
            ]
          },
          "metadata": {
            "tags": []
          },
          "execution_count": 10
        }
      ]
    },
    {
      "cell_type": "code",
      "metadata": {
        "id": "y9LepbEy9NsZ",
        "colab_type": "code",
        "colab": {
          "base_uri": "https://localhost:8080/",
          "height": 692
        },
        "outputId": "e7db1ac9-e47d-4bc7-feb7-838b5e502f6e"
      },
      "source": [
        "from sklearn.neighbors import KNeighborsClassifier\n",
        "import time\n",
        "error=[]\n",
        "for i in range(1,20):\n",
        "  t1=time.time()\n",
        "  knn=KNeighborsClassifier(algorithm='brute',n_neighbors=i)\n",
        "  knn.fit(X_train,y_train)\n",
        "  pred_i=knn.predict(X_test)\n",
        "  t2=time.time()\n",
        "  print(str(i)+\": \"+str(t2-t1))\n",
        "  \n",
        "  error.append(np.mean(pred_i!=y_test))\n",
        "error"
      ],
      "execution_count": 11,
      "outputs": [
        {
          "output_type": "stream",
          "text": [
            "1: 0.04934811592102051\n",
            "2: 0.04041552543640137\n",
            "3: 0.04006838798522949\n",
            "4: 0.03969287872314453\n",
            "5: 0.03933072090148926\n",
            "6: 0.040735721588134766\n",
            "7: 0.04089999198913574\n",
            "8: 0.039182424545288086\n",
            "9: 0.04043698310852051\n",
            "10: 0.03931069374084473\n",
            "11: 0.040648460388183594\n",
            "12: 0.041635751724243164\n",
            "13: 0.039795637130737305\n",
            "14: 0.03935718536376953\n",
            "15: 0.04055523872375488\n",
            "16: 0.04369091987609863\n",
            "17: 0.0390627384185791\n",
            "18: 0.03924393653869629\n",
            "19: 0.03928565979003906\n"
          ],
          "name": "stdout"
        },
        {
          "output_type": "execute_result",
          "data": {
            "text/plain": [
              "[0.07692307692307693,\n",
              " 0.0,\n",
              " 0.07692307692307693,\n",
              " 0.07692307692307693,\n",
              " 0.07692307692307693,\n",
              " 0.07692307692307693,\n",
              " 0.07692307692307693,\n",
              " 0.07692307692307693,\n",
              " 0.23076923076923078,\n",
              " 0.23076923076923078,\n",
              " 0.23076923076923078,\n",
              " 0.15384615384615385,\n",
              " 0.15384615384615385,\n",
              " 0.15384615384615385,\n",
              " 0.23076923076923078,\n",
              " 0.15384615384615385,\n",
              " 0.23076923076923078,\n",
              " 0.15384615384615385,\n",
              " 0.15384615384615385]"
            ]
          },
          "metadata": {
            "tags": []
          },
          "execution_count": 11
        }
      ]
    },
    {
      "cell_type": "code",
      "metadata": {
        "id": "gR2eSggb_U8u",
        "colab_type": "code",
        "colab": {
          "base_uri": "https://localhost:8080/",
          "height": 475
        },
        "outputId": "a46cded7-c28d-4868-d084-6e2577a606c5"
      },
      "source": [
        "import matplotlib.pyplot as plt\n",
        "plt.figure(figsize=(12,6))\n",
        "plt.plot(range(1,20),error,color='red',linestyle='dashed',marker='o',markerfacecolor='blue',markersize=10)\n",
        "plt.title(\"Error vs K\")\n",
        "plt.xlabel('K val')\n",
        "plt.ylabel('Mean error')\n",
        "print(error.index(min(error))+1)\n",
        "knn=KNeighborsClassifier(algorithm='brute',n_neighbors=error.index(min(error))+1)\n",
        "knn.fit(X_train,y_train)"
      ],
      "execution_count": 12,
      "outputs": [
        {
          "output_type": "stream",
          "text": [
            "2\n"
          ],
          "name": "stdout"
        },
        {
          "output_type": "execute_result",
          "data": {
            "text/plain": [
              "KNeighborsClassifier(algorithm='brute', leaf_size=30, metric='minkowski',\n",
              "                     metric_params=None, n_jobs=None, n_neighbors=2, p=2,\n",
              "                     weights='uniform')"
            ]
          },
          "metadata": {
            "tags": []
          },
          "execution_count": 12
        },
        {
          "output_type": "display_data",
          "data": {
            "image/png": "[encoded data removed]",
            "text/plain": [
              "<Figure size 864x432 with 1 Axes>"
            ]
          },
          "metadata": {
            "tags": []
          }
        }
      ]
    },
    {
      "cell_type": "code",
      "metadata": {
        "id": "vGJ5kLLL_lyN",
        "colab_type": "code",
        "colab": {}
      },
      "source": [
        "y_pred=knn.predict(X_train)"
      ],
      "execution_count": 0,
      "outputs": []
    },
    {
      "cell_type": "code",
      "metadata": {
        "id": "sODMGXWR_pGQ",
        "colab_type": "code",
        "colab": {
          "base_uri": "https://localhost:8080/",
          "height": 212
        },
        "outputId": "a9d64ea9-3cd1-4b6c-ec41-5bc70c79c0a4"
      },
      "source": [
        "from sklearn.metrics import classification_report,confusion_matrix\n",
        "\n",
        "print(confusion_matrix(y_train,y_pred))\n",
        "print(classification_report(y_train,y_pred))"
      ],
      "execution_count": 14,
      "outputs": [
        {
          "output_type": "stream",
          "text": [
            "[[15  0]\n",
            " [ 1 21]]\n",
            "              precision    recall  f1-score   support\n",
            "\n",
            "           0       0.94      1.00      0.97        15\n",
            "           1       1.00      0.95      0.98        22\n",
            "\n",
            "    accuracy                           0.97        37\n",
            "   macro avg       0.97      0.98      0.97        37\n",
            "weighted avg       0.97      0.97      0.97        37\n",
            "\n"
          ],
          "name": "stdout"
        }
      ]
    },
    {
      "cell_type": "code",
      "metadata": {
        "id": "h4dp_6wt_qcA",
        "colab_type": "code",
        "colab": {}
      },
      "source": [
        "y_test_pred=knn.predict(X_test)"
      ],
      "execution_count": 0,
      "outputs": []
    },
    {
      "cell_type": "code",
      "metadata": {
        "id": "DaBe8CFA_tnR",
        "colab_type": "code",
        "colab": {
          "base_uri": "https://localhost:8080/",
          "height": 212
        },
        "outputId": "db21fc64-a259-477c-906b-496fee8e7918"
      },
      "source": [
        "\n",
        "print(confusion_matrix(y_test,y_test_pred))\n",
        "print(classification_report(y_test,y_test_pred))"
      ],
      "execution_count": 16,
      "outputs": [
        {
          "output_type": "stream",
          "text": [
            "[[10  0]\n",
            " [ 0  3]]\n",
            "              precision    recall  f1-score   support\n",
            "\n",
            "           0       1.00      1.00      1.00        10\n",
            "           1       1.00      1.00      1.00         3\n",
            "\n",
            "    accuracy                           1.00        13\n",
            "   macro avg       1.00      1.00      1.00        13\n",
            "weighted avg       1.00      1.00      1.00        13\n",
            "\n"
          ],
          "name": "stdout"
        }
      ]
    },
    {
      "cell_type": "code",
      "metadata": {
        "id": "NP2RsrBq_u_m",
        "colab_type": "code",
        "colab": {}
      },
      "source": [
        ""
      ],
      "execution_count": 0,
      "outputs": []
    }
  ]
}